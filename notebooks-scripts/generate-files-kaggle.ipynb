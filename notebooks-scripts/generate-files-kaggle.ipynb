{
 "cells": [
  {
   "cell_type": "markdown",
   "metadata": {},
   "source": [
    "# Generate Data Files for Kaggle"
   ]
  },
  {
   "cell_type": "code",
   "execution_count": 2,
   "metadata": {},
   "outputs": [],
   "source": [
    "# Import libraries\n",
    "import pandas as pd\n",
    "import os\n",
    "import glob"
   ]
  },
  {
   "cell_type": "code",
   "execution_count": 3,
   "metadata": {},
   "outputs": [
    {
     "name": "stdout",
     "output_type": "stream",
     "text": [
      "Reading file: ../data\\2018\\Dec.tsv\n",
      "Reading file: ../data\\2018\\Nov.tsv\n",
      "Reading file: ../data\\2018\\Oct.tsv\n",
      "Reading file: ../data\\2019\\Apr.tsv\n",
      "Reading file: ../data\\2019\\Aug.tsv\n",
      "Reading file: ../data\\2019\\Dec.tsv\n",
      "Reading file: ../data\\2019\\Feb.tsv\n",
      "Reading file: ../data\\2019\\Jan.tsv\n",
      "Reading file: ../data\\2019\\Jul.tsv\n",
      "Reading file: ../data\\2019\\Jun.tsv\n",
      "Reading file: ../data\\2019\\Mar.tsv\n",
      "Reading file: ../data\\2019\\May.tsv\n",
      "Reading file: ../data\\2019\\Nov.tsv\n",
      "Reading file: ../data\\2019\\Oct.tsv\n",
      "Reading file: ../data\\2019\\Sep.tsv\n",
      "Reading file: ../data\\2020\\Apr.tsv\n",
      "Reading file: ../data\\2020\\Aug.tsv\n",
      "Reading file: ../data\\2020\\Dec.tsv\n",
      "Reading file: ../data\\2020\\Feb.tsv\n",
      "Reading file: ../data\\2020\\Jan.tsv\n",
      "Reading file: ../data\\2020\\Jul.tsv\n",
      "Reading file: ../data\\2020\\Jun.tsv\n",
      "Reading file: ../data\\2020\\Mar.tsv\n",
      "Reading file: ../data\\2020\\May.tsv\n",
      "Reading file: ../data\\2020\\Nov.tsv\n",
      "Reading file: ../data\\2020\\Oct.tsv\n",
      "Reading file: ../data\\2020\\Sep.tsv\n",
      "Reading file: ../data\\2021\\Apr.tsv\n",
      "Reading file: ../data\\2021\\Aug.tsv\n",
      "Reading file: ../data\\2021\\Dec.tsv\n",
      "Reading file: ../data\\2021\\Feb.tsv\n",
      "Reading file: ../data\\2021\\Jan.tsv\n",
      "Reading file: ../data\\2021\\Jul.tsv\n",
      "Reading file: ../data\\2021\\Jun.tsv\n",
      "Reading file: ../data\\2021\\Mar.tsv\n",
      "Reading file: ../data\\2021\\Nov.tsv\n",
      "Reading file: ../data\\2021\\Oct.tsv\n",
      "Reading file: ../data\\2021\\Sep.tsv\n",
      "Reading file: ../data\\2022\\Apr.tsv\n",
      "Reading file: ../data\\2022\\Aug.tsv\n",
      "Reading file: ../data\\2022\\Feb.tsv\n",
      "Reading file: ../data\\2022\\Jan.tsv\n",
      "Reading file: ../data\\2022\\Jul.tsv\n",
      "Reading file: ../data\\2022\\Jun.tsv\n",
      "Reading file: ../data\\2022\\Mar.tsv\n",
      "Reading file: ../data\\2022\\May.tsv\n",
      "Reading file: ../data\\2022\\Sep.tsv\n"
     ]
    }
   ],
   "source": [
    "# Data location\n",
    "years = \"2018 2019 2020 2021 2022\".split()\n",
    "\n",
    "li_out = []\n",
    "for year in years:\n",
    "    path = os.path.join(\"../data\", year)\n",
    "    csv_files = glob.glob(os.path.join(path, \"*.tsv\"))\n",
    "\n",
    "\n",
    "    # Loop over the list of csv files\n",
    "    for f in csv_files:\n",
    "        print(\"Reading file: \" + f)\n",
    "        # Read the tsv file\n",
    "        df = pd.read_csv(f, sep='\\t', header = 0, lineterminator='\\n', quoting=3)\n",
    "        df.columns = [\"Language\", \"TimeStamp\", \"UserID\", \"UserName\", \"TweetID\", \"Tweet\"]\n",
    "        df.dropna(inplace = True)\n",
    "        df['TimeStamp'] = pd.to_datetime(df['TimeStamp'], utc = True)\n",
    "        df['TweetID'] = df['TweetID'].astype(str)\n",
    "        df['UserID'] = df['UserID'].astype(str)\n",
    "        df.drop_duplicates(subset = \"TweetID\", inplace = True)\n",
    "        li_out.append(df)"
   ]
  },
  {
   "cell_type": "code",
   "execution_count": 4,
   "metadata": {},
   "outputs": [],
   "source": [
    "# Concatenate all the list elements into a single dataframe and save as a pickle for further processing\n",
    "df_out = pd.concat(li_out, ignore_index=True)\n",
    "df_out.to_pickle(os.path.join(\"../kaggle\", \"2018-2022-unsorted.pkl\"))\n"
   ]
  },
  {
   "cell_type": "code",
   "execution_count": null,
   "metadata": {},
   "outputs": [],
   "source": [
    "# Sort values as per date and drop an duplicates that might be missed in the original fetch\n",
    "#df_out.sort_values(by='Date', inplace = True)\n",
    "#df_out.drop_duplicates(subset = \"Tweet_ID\", inplace = True)"
   ]
  },
  {
   "cell_type": "code",
   "execution_count": null,
   "metadata": {},
   "outputs": [],
   "source": [
    "#df_out.to_csv(os.path.join(\"../kaggle\", year + \".tsv\"), sep = \"\\t\", index = False)\n",
    "#df_out.to_excel(os.path.join(\"../kaggle\", year + \".xlsx\"), sheet_name=year, index = False)\n",
    "#print(year + \" : \" + str(df_out.shape))"
   ]
  },
  {
   "cell_type": "code",
   "execution_count": null,
   "metadata": {},
   "outputs": [],
   "source": []
  }
 ],
 "metadata": {
  "kernelspec": {
   "display_name": "Python 3.10.7 64-bit (microsoft store)",
   "language": "python",
   "name": "python3"
  },
  "language_info": {
   "codemirror_mode": {
    "name": "ipython",
    "version": 3
   },
   "file_extension": ".py",
   "mimetype": "text/x-python",
   "name": "python",
   "nbconvert_exporter": "python",
   "pygments_lexer": "ipython3",
   "version": "3.10.7"
  },
  "orig_nbformat": 4,
  "vscode": {
   "interpreter": {
    "hash": "3e8b0c7c5f0f351624759a9f66b60b22c8d8c8e89e4a7167a24ec1c4eba9b5bf"
   }
  }
 },
 "nbformat": 4,
 "nbformat_minor": 2
}
