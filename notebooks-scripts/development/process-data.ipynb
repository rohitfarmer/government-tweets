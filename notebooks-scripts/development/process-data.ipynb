{
 "cells": [
  {
   "cell_type": "code",
   "execution_count": 142,
   "metadata": {},
   "outputs": [],
   "source": [
    "import pandas as pd\n",
    "import os"
   ]
  },
  {
   "cell_type": "code",
   "execution_count": 143,
   "metadata": {},
   "outputs": [],
   "source": [
    "df = pd.read_pickle(os.path.join(\"../kaggle\", \"2018-2022-unsorted.pkl\"))"
   ]
  },
  {
   "cell_type": "code",
   "execution_count": 144,
   "metadata": {},
   "outputs": [],
   "source": [
    "df.sort_values(by='TimeStamp', inplace = True)\n",
    "df.drop_duplicates(subset = \"TweetID\", inplace = True)"
   ]
  },
  {
   "cell_type": "code",
   "execution_count": 145,
   "metadata": {},
   "outputs": [
    {
     "name": "stdout",
     "output_type": "stream",
     "text": [
      "2018-01-01 00:00:00+00:00\n",
      "2019-01-01 00:00:00+00:00\n",
      "Minimum range: 2018-10-25 21:42:13\n",
      "Minimum range: 2018-12-31 23:53:45\n",
      "2019-01-01 00:00:00+00:00\n",
      "2020-01-01 00:00:00+00:00\n",
      "Minimum range: 2019-01-01 00:14:26\n",
      "Minimum range: 2019-12-31 23:40:32\n",
      "2020-01-01 00:00:00+00:00\n",
      "2021-01-01 00:00:00+00:00\n",
      "Minimum range: 2020-01-01 00:01:59\n",
      "Minimum range: 2020-12-31 23:15:07\n",
      "2021-01-01 00:00:00+00:00\n",
      "2022-01-01 00:00:00+00:00\n",
      "Minimum range: 2021-01-01 00:01:56\n",
      "Minimum range: 2021-12-31 23:52:39\n",
      "2022-01-01 00:00:00+00:00\n",
      "2023-01-01 00:00:00+00:00\n",
      "Minimum range: 2022-01-01 00:02:00\n",
      "Minimum range: 2022-09-15 15:57:57\n"
     ]
    }
   ],
   "source": [
    "years = \"2018 2019 2020 2021 2022\".split()\n",
    "for year in years:\n",
    "    year_begin = pd.to_datetime(year, utc = True)\n",
    "    year_end = pd.to_datetime(str(int(year) + 1), utc = True)\n",
    "    print(year_begin)\n",
    "    print(year_end)\n",
    "\n",
    "    df_selected = df[(df['TimeStamp'] >= year_begin) & (df['TimeStamp'] < year_end)]\n",
    "    df_selected.reset_index(inplace = True, drop = True)\n",
    "\n",
    "    new_time = df_selected.loc[:,'TimeStamp'].dt.tz_localize(tz = None)\n",
    "    new_df = df_selected[['Language', 'UserID', 'UserName',\t'TweetID',\t'Tweet']]\n",
    "    new_df['TimeStamp'] = new_time\n",
    "    new_df = new_df.reindex(columns=['TimeStamp','Language', 'UserID', 'UserName',\t'TweetID',\t'Tweet'])\n",
    "    \n",
    "    print(\"Minimum range: \" + str(new_df['TimeStamp'].min()))\n",
    "    print(\"Minimum range: \" + str(new_df['TimeStamp'].max()))\n",
    "\n",
    "    new_df.to_excel(os.path.join(\"../kaggle\", str(year) + \".xlsx\"), sheet_name=str(year), index = False)\n",
    "\n",
    "\n"
   ]
  }
 ],
 "metadata": {
  "kernelspec": {
   "display_name": "Python 3.10.7 64-bit (microsoft store)",
   "language": "python",
   "name": "python3"
  },
  "language_info": {
   "codemirror_mode": {
    "name": "ipython",
    "version": 3
   },
   "file_extension": ".py",
   "mimetype": "text/x-python",
   "name": "python",
   "nbconvert_exporter": "python",
   "pygments_lexer": "ipython3",
   "version": "3.10.7"
  },
  "orig_nbformat": 4,
  "vscode": {
   "interpreter": {
    "hash": "3e8b0c7c5f0f351624759a9f66b60b22c8d8c8e89e4a7167a24ec1c4eba9b5bf"
   }
  }
 },
 "nbformat": 4,
 "nbformat_minor": 2
}
